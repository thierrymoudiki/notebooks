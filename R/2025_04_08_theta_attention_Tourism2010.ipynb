{
  "cells": [
    {
      "cell_type": "code",
      "execution_count": 1,
      "metadata": {
        "id": "KEBeyUWjr2Nk"
      },
      "outputs": [],
      "source": [
        "%load_ext rpy2.ipython"
      ]
    },
    {
      "cell_type": "code",
      "execution_count": null,
      "metadata": {
        "id": "8YKrveXwrznm"
      },
      "outputs": [],
      "source": [
        "%%R\n",
        "\n",
        "install.packages(\"remotes\")\n",
        "install.packages(\"doParallel\")\n",
        "install.packages(\"quantreg\")\n",
        "install.packages(\"memoise\")\n",
        "install.packages(\"Mcomp\")\n",
        "install.packages(\"Tcomp\")\n",
        "install.packages(\"gam\")\n",
        "remotes::install_github(\"Techtonique/ahead\")\n",
        "#install.packages(\"forecast\")\n",
        "library(forecast)\n",
        "\n",
        "\n",
        "require(Mcomp)\n",
        "\n",
        "accuracy <- function(obj, xx)\n",
        "{\n",
        "  x <- obj$mean\n",
        "  f <- xx\n",
        "  (mae <- mean(abs((x - f))) * 100)\n",
        "  (rmse <- sqrt(mean((x - f)**2)))\n",
        "  # Training data (historical observations)\n",
        "  train <- obj$x               # x = training data in M3\n",
        "  # Test data (true future values)\n",
        "  test <- xx               # xx = test data in M3\n",
        "  # Forecast horizon (h)\n",
        "  h <- length(test)               # e.g., 18 for monthly M3\n",
        "  # Determine seasonal period (m)\n",
        "  m <- frequency(train)   # e.g., 12 for monthly data\n",
        "  # Compute scaling factor (MAE of in-sample seasonal naive forecasts)\n",
        "  if (m > 1) {\n",
        "    scale <- mean(abs(diff(train, lag = m)))\n",
        "  } else {\n",
        "    scale <- mean(abs(diff(train, lag = 1)))\n",
        "  }\n",
        "  # MASE = mean(|test - forecast|) / scale\n",
        "  mase <- mean(abs(test - obj$mean)) / max(scale, 1e-6)\n",
        "  x <- c(mae, rmse, mase)\n",
        "  names(x) <- c(\"mae\", \"rmse\", \"mase\")\n",
        "  return(x)\n",
        "}\n",
        "accuracy <- memoise::memoise(accuracy)\n",
        "\n",
        "\n",
        "thetaf <- memoise::memoise(forecast::thetaf)\n",
        "glmthetaf <- memoise::memoise(ahead::glmthetaf)"
      ]
    },
    {
      "cell_type": "code",
      "source": [],
      "metadata": {
        "id": "gi84vVB2-9R4"
      },
      "execution_count": 2,
      "outputs": []
    },
    {
      "cell_type": "code",
      "source": [
        "%%R\n",
        "\n",
        "# Load necessary libraries\n",
        "library(doSNOW)\n",
        "library(tcltk)\n",
        "\n",
        "# Tcomp series -----\n",
        "(nseries <- length(Tcomp::tourism))\n",
        "\n",
        "# Set up parallel backend\n",
        "cl <- makeSOCKcluster(2)  # Use 2 cores (adjust as needed)\n",
        "registerDoSNOW(cl)\n",
        "\n",
        "# Define progress bar\n",
        "pb <- txtProgressBar(min = 0, max = nseries, style = 3)\n",
        "\n",
        "# Progress function\n",
        "progress <- function(n) setTxtProgressBar(pb, n)\n",
        "\n",
        "# Options for progress tracking\n",
        "opts <- list(progress = progress)\n",
        "\n",
        "# Parallel loop with progress bar\n",
        "results <- foreach(i = 1:nseries, .combine = rbind,\n",
        "                   .errorhandling = \"stop\",\n",
        "                   .options.snow = opts) %dopar% {\n",
        "  x <- Tcomp::tourism[[i]]$x\n",
        "  xx <- Tcomp::tourism[[i]]$xx\n",
        "  h <- length(xx)\n",
        "\n",
        "  # thetaf\n",
        "  obj <- suppressWarnings(thetaf(x, h = h))\n",
        "  res1 <- accuracy(obj, xx)\n",
        "\n",
        "  # glmthetaf with MASS::glm.nb\n",
        "  obj <- suppressWarnings(glmthetaf(x, h = h,\n",
        "                                    fit_func = MASS::glm.nb,\n",
        "                                    attention = TRUE))\n",
        "  res2 <- accuracy(obj, xx)\n",
        "\n",
        "  # glmthetaf with stats::glm\n",
        "  obj <- suppressWarnings(glmthetaf(x, h = h,\n",
        "                                    fit_func = stats::glm,\n",
        "                                    attention = TRUE))\n",
        "  res3 <- accuracy(obj, xx)\n",
        "\n",
        "  # glmthetaf with MASS::rlm\n",
        "  obj <- suppressWarnings(glmthetaf(x, h = h,\n",
        "                                    fit_func = MASS::rlm,\n",
        "                                    attention = TRUE))\n",
        "  res4 <- accuracy(obj, xx)\n",
        "\n",
        "  # glmthetaf with MASS::lqs\n",
        "  obj <- suppressWarnings(glmthetaf(x, h = h,\n",
        "                                    fit_func = MASS::lqs,\n",
        "                                    attention = TRUE))\n",
        "  res5 <- accuracy(obj, xx)\n",
        "\n",
        "  # glmthetaf with gam::gam\n",
        "  obj <- suppressWarnings(glmthetaf(x, h = h,\n",
        "                                    fit_func = gam::gam,\n",
        "                                    attention = TRUE))\n",
        "  res6 <- accuracy(obj, xx)\n",
        "\n",
        "  # glmthetaf with quantreg::rq\n",
        "  obj <- suppressWarnings(glmthetaf(x, h = h,\n",
        "                                    fit_func = quantreg::rq,\n",
        "                                    attention = TRUE))\n",
        "  res7 <- accuracy(obj, xx)\n",
        "\n",
        "  # Determine period\n",
        "  period <- switch(Tcomp::tourism[[i]]$period,\n",
        "                   \"YEARLY\" = 1,\n",
        "                   \"QUARTERLY\" = 4,\n",
        "                   \"MONTHLY\" = 12)\n",
        "\n",
        "  # Combine results\n",
        "  res <- cbind(i, period,\n",
        "               res1, res2,\n",
        "               res3, res4,\n",
        "               res5, res6, res7)\n",
        "  colnames(res) <- c(\"series\", \"period\", \"theta\", \"glmnbtheta\",\n",
        "                     \"glmtheta\", \"rlmtheta\", \"lqstheta\",\n",
        "                     \"gamtheta\", \"quantregtheta\")\n",
        "  res\n",
        "}\n",
        "\n",
        "# Stop cluster\n",
        "stopCluster(cl)\n",
        "\n",
        "# Close progress bar\n",
        "close(pb)\n",
        "\n",
        "# Convert results to data frame\n",
        "results <- data.frame(results)"
      ],
      "metadata": {
        "id": "5rNbpx-j9_Lj"
      },
      "execution_count": null,
      "outputs": []
    },
    {
      "cell_type": "code",
      "source": [
        "%%R\n",
        "\n",
        "cat(\"\\n\\n FREQ = YEARLY: \\n\\n\")\n",
        "print(summary(subset(results[grep(\"mase\", rownames(results)), ], period==1)))\n",
        "cat(\"\\n\\n FREQ = QUARTERLY: \\n\\n\")\n",
        "print(summary(subset(results[grep(\"mase\", rownames(results)), ], period==4)))\n",
        "cat(\"\\n\\n FREQ = MONTHLY: \\n\\n\")\n",
        "print(summary(subset(results[grep(\"mase\", rownames(results)), ], period==12)))"
      ],
      "metadata": {
        "colab": {
          "base_uri": "https://localhost:8080/"
        },
        "id": "seHyjADeBemO",
        "outputId": "d0bf060d-1cc0-4358-b11e-947909e72a17"
      },
      "execution_count": 16,
      "outputs": [
        {
          "output_type": "stream",
          "name": "stdout",
          "text": [
            "\n",
            "\n",
            " FREQ = YEARLY: \n",
            "\n",
            "     series           period      theta           glmnbtheta      \n",
            " Min.   : 794.0   Min.   :1   Min.   : 0.1659   Min.   : 0.05748  \n",
            " 1st Qu.: 923.2   1st Qu.:1   1st Qu.: 1.1685   1st Qu.: 1.35561  \n",
            " Median :1052.5   Median :1   Median : 2.0720   Median : 2.37390  \n",
            " Mean   :1052.5   Mean   :1   Mean   : 2.7303   Mean   : 3.02639  \n",
            " 3rd Qu.:1181.8   3rd Qu.:1   3rd Qu.: 3.4361   3rd Qu.: 4.01669  \n",
            " Max.   :1311.0   Max.   :1   Max.   :12.6591   Max.   :13.42235  \n",
            "    glmtheta          rlmtheta          lqstheta          gamtheta      \n",
            " Min.   : 0.2033   Min.   : 0.2137   Min.   : 0.1668   Min.   : 0.2033  \n",
            " 1st Qu.: 1.1823   1st Qu.: 1.1735   1st Qu.: 1.2370   1st Qu.: 1.1823  \n",
            " Median : 2.0801   Median : 2.0370   Median : 2.1895   Median : 2.0801  \n",
            " Mean   : 2.7299   Mean   : 2.7089   Mean   : 2.8286   Mean   : 2.7299  \n",
            " 3rd Qu.: 3.4745   3rd Qu.: 3.4714   3rd Qu.: 3.8234   3rd Qu.: 3.4745  \n",
            " Max.   :12.7243   Max.   :12.2952   Max.   :14.8614   Max.   :12.7243  \n",
            " quantregtheta    \n",
            " Min.   : 0.1855  \n",
            " 1st Qu.: 1.2342  \n",
            " Median : 2.1063  \n",
            " Mean   : 2.7352  \n",
            " 3rd Qu.: 3.5627  \n",
            " Max.   :12.6997  \n",
            "\n",
            "\n",
            " FREQ = QUARTERLY: \n",
            "\n",
            "     series          period      theta          glmnbtheta        glmtheta     \n",
            " Min.   :367.0   Min.   :4   Min.   :0.1435   Min.   :0.2547   Min.   :0.3146  \n",
            " 1st Qu.:473.5   1st Qu.:4   1st Qu.:0.9411   1st Qu.:0.9345   1st Qu.:0.9216  \n",
            " Median :580.0   Median :4   Median :1.3482   Median :1.3963   Median :1.3393  \n",
            " Mean   :580.0   Mean   :4   Mean   :1.6613   Mean   :1.6622   Mean   :1.5744  \n",
            " 3rd Qu.:686.5   3rd Qu.:4   3rd Qu.:2.0063   3rd Qu.:1.9796   3rd Qu.:1.9217  \n",
            " Max.   :793.0   Max.   :4   Max.   :6.5581   Max.   :7.1608   Max.   :7.5383  \n",
            "    rlmtheta         lqstheta         gamtheta      quantregtheta   \n",
            " Min.   :0.3075   Min.   :0.2563   Min.   :0.3146   Min.   :0.2485  \n",
            " 1st Qu.:0.9121   1st Qu.:0.8884   1st Qu.:0.9216   1st Qu.:0.9178  \n",
            " Median :1.3063   Median :1.3483   Median :1.3393   Median :1.3200  \n",
            " Mean   :1.5657   Mean   :1.6053   Mean   :1.5744   Mean   :1.5725  \n",
            " 3rd Qu.:1.8925   3rd Qu.:1.9778   3rd Qu.:1.9217   3rd Qu.:1.9146  \n",
            " Max.   :7.5300   Max.   :7.4773   Max.   :7.5383   Max.   :7.5101  \n",
            "\n",
            "\n",
            " FREQ = MONTHLY: \n",
            "\n",
            "     series           period       theta          glmnbtheta    \n",
            " Min.   :  1.00   Min.   :12   Min.   :0.2306   Min.   :0.3772  \n",
            " 1st Qu.: 92.25   1st Qu.:12   1st Qu.:1.0318   1st Qu.:1.0078  \n",
            " Median :183.50   Median :12   Median :1.3823   Median :1.3077  \n",
            " Mean   :183.50   Mean   :12   Mean   :1.6488   Mean   :1.5406  \n",
            " 3rd Qu.:274.75   3rd Qu.:12   3rd Qu.:1.9223   3rd Qu.:1.7017  \n",
            " Max.   :366.00   Max.   :12   Max.   :6.5851   Max.   :6.3361  \n",
            "    glmtheta         rlmtheta         lqstheta         gamtheta     \n",
            " Min.   :0.3479   Min.   :0.3458   Min.   :0.3702   Min.   :0.3479  \n",
            " 1st Qu.:0.9531   1st Qu.:0.9477   1st Qu.:0.9976   1st Qu.:0.9531  \n",
            " Median :1.2789   Median :1.2788   Median :1.3074   Median :1.2789  \n",
            " Mean   :1.5083   Mean   :1.5005   Mean   :1.5059   Mean   :1.5083  \n",
            " 3rd Qu.:1.7390   3rd Qu.:1.7282   3rd Qu.:1.7313   3rd Qu.:1.7390  \n",
            " Max.   :6.2486   Max.   :6.0757   Max.   :5.9373   Max.   :6.2486  \n",
            " quantregtheta   \n",
            " Min.   :0.3468  \n",
            " 1st Qu.:0.9544  \n",
            " Median :1.2783  \n",
            " Mean   :1.5001  \n",
            " 3rd Qu.:1.7180  \n",
            " Max.   :6.0329  \n"
          ]
        }
      ]
    },
    {
      "cell_type": "code",
      "source": [
        "%%R\n",
        "\n",
        "cat(\"\\n\\n FREQ = YEARLY: \\n\\n\")\n",
        "boxplot(log(subset(results[grep(\"mase\", rownames(results)), -c(1, 2)])))\n",
        "cat(\"\\n\\n FREQ = QUARTERLY: \\n\\n\")\n",
        "boxplot(log(subset(results[grep(\"mase\", rownames(results)), -c(1, 2)])))\n",
        "cat(\"\\n\\n FREQ = MONTHLY: \\n\\n\")\n",
        "boxplot(log(subset(results[grep(\"mase\", rownames(results)), -c(1, 2)])))"
      ],
      "metadata": {
        "colab": {
          "base_uri": "https://localhost:8080/",
          "height": 711
        },
        "id": "EN9uQgx5FEsd",
        "outputId": "400e9258-e55c-45ab-e87f-623953690288"
      },
      "execution_count": 21,
      "outputs": [
        {
          "output_type": "stream",
          "name": "stdout",
          "text": [
            "\n",
            "\n",
            " FREQ = YEARLY: \n",
            "\n",
            "\n",
            "\n",
            " FREQ = QUARTERLY: \n",
            "\n",
            "\n",
            "\n",
            " FREQ = MONTHLY: \n",
            "\n"
          ]
        },
        {
          "output_type": "display_data",
          "data": {
            "image/png": "[encoded data removed]",
            "text/plain": [
              "<IPython.core.display.Image object>"
            ]
          },
          "metadata": {}
        }
      ]
    }
  ],
  "metadata": {
    "colab": {
      "provenance": []
    },
    "kernelspec": {
      "display_name": "Python 3",
      "name": "python3"
    },
    "language_info": {
      "name": "python"
    }
  },
  "nbformat": 4,
  "nbformat_minor": 0
}